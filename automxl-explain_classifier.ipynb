{
 "cells": [
  {
   "cell_type": "code",
   "execution_count": null,
   "id": "8cf11342-84a8-4e87-95bd-5e05494fb407",
   "metadata": {},
   "outputs": [],
   "source": [
    "# Import the standard, publicly-available iris data set\n",
    "\n",
    "import pandas as pd\n",
    "from sklearn.datasets import load_iris\n",
    "\n",
    "data = load_iris()\n",
    "df = pd.DataFrame(data['data'], columns=data['feature_names'])\n",
    "y = pd.Series(data['target'])"
   ]
  },
  {
   "cell_type": "code",
   "execution_count": null,
   "id": "627b389e-b34b-4911-9068-5a450a5fdc0c",
   "metadata": {
    "tags": []
   },
   "outputs": [],
   "source": [
    "print(df)"
   ]
  },
  {
   "cell_type": "code",
   "execution_count": null,
   "id": "1c431a4d-078d-416a-90f6-f46148b2f184",
   "metadata": {
    "tags": []
   },
   "outputs": [],
   "source": [
    "# The target in the iris dataset represents the species of iris\n",
    "# 0: Iris setosa\n",
    "# 1: Iris versicolor\n",
    "# 2: Iris virginica \n",
    "\n",
    "print(y)"
   ]
  },
  {
   "cell_type": "code",
   "execution_count": null,
   "id": "a76811b9-0091-408d-a356-4aad4de65a6a",
   "metadata": {
    "tags": []
   },
   "outputs": [],
   "source": [
    "# Split data into appropriate training and test sets\n",
    "from sklearn.model_selection import train_test_split\n",
    "\n",
    "X_train, X_test, y_train, y_test = train_test_split(df,\n",
    "                                                        y,\n",
    "                                                        train_size=0.7,\n",
    "                                                        random_state=0)\n",
    "X_train.shape, X_test.shape"
   ]
  },
  {
   "cell_type": "code",
   "execution_count": null,
   "id": "bfa5e44d-5307-42e3-b451-18882ebe1379",
   "metadata": {
    "tags": []
   },
   "outputs": [],
   "source": [
    "# Set and initialize the AutoMLx engine\n",
    "import automlx\n",
    "from automlx import init\n",
    "\n",
    "init(engine='local')"
   ]
  },
  {
   "cell_type": "code",
   "execution_count": null,
   "id": "9bd94aba-343c-4652-a231-5e308e003bd2",
   "metadata": {
    "tags": []
   },
   "outputs": [],
   "source": [
    "# Train a model using AutoMLx\n",
    "est = automlx.Pipeline(task='classification')\n",
    "est.fit(X_train, y_train)"
   ]
  },
  {
   "cell_type": "code",
   "execution_count": null,
   "id": "55a3ad0e-c468-4985-8605-ac68ee444e43",
   "metadata": {
    "tags": []
   },
   "outputs": [],
   "source": [
    "# Use the F1_score scoreing metric to evaluate the model's performance\n",
    "from sklearn.metrics import f1_score\n",
    "\n",
    "y_pred = est.predict(X_test)\n",
    "score_default = f1_score(y_test, y_pred, average='macro')\n",
    "print(f'Score on test data : {score_default}')"
   ]
  },
  {
   "cell_type": "code",
   "execution_count": null,
   "id": "e7821c38-1366-4b6b-901d-07e1716a8cc0",
   "metadata": {
    "tags": []
   },
   "outputs": [],
   "source": [
    "# Explain the generated classifier\n",
    "explainer = automlx.MLExplainer(est,\n",
    "                                   X_train,\n",
    "                                   y_train,\n",
    "                                   task=\"classification\")\n",
    "\n",
    "result_explain_model_default = explainer.explain_model()\n",
    "result_explain_model_default.to_dataframe()"
   ]
  },
  {
   "cell_type": "code",
   "execution_count": null,
   "id": "da4561b3-be98-4ab1-948f-3c5e7a1db6f9",
   "metadata": {
    "tags": []
   },
   "outputs": [],
   "source": [
    "# Report the local explanation for a single dataset row\n",
    "\n",
    "print(\"Explain the first row in our test data set...\")\n",
    "result_explain_prediction = explainer.explain_prediction(X=X_test.loc[X_test.index[0]])\n",
    "print(result_explain_prediction)\n",
    "      \n",
    "print(\"Explain the second row in our test data set...\")\n",
    "result_explain_prediction = explainer.explain_prediction(X=X_test.loc[X_test.index[1]])\n",
    "print(result_explain_prediction)"
   ]
  },
  {
   "cell_type": "code",
   "execution_count": null,
   "id": "fde91abb-c2e3-4a5b-8395-93c6e85468c6",
   "metadata": {
    "tags": []
   },
   "outputs": [],
   "source": [
    "# Report the what if explaination for our test data set\n",
    "result_explore_whatif = explainer.explore_whatif(X=X_test, y=y_test)\n",
    "#print(result_explore_whatif)"
   ]
  },
  {
   "cell_type": "code",
   "execution_count": null,
   "id": "088a2465-51cd-49c8-9d35-617a89ffbbad",
   "metadata": {},
   "outputs": [],
   "source": []
  }
 ],
 "metadata": {
  "kernelspec": {
   "display_name": "Python [conda env:automlx251_p311_cpu_x86_64_v2]",
   "language": "python",
   "name": "conda-env-automlx251_p311_cpu_x86_64_v2-py"
  },
  "language_info": {
   "codemirror_mode": {
    "name": "ipython",
    "version": 3
   },
   "file_extension": ".py",
   "mimetype": "text/x-python",
   "name": "python",
   "nbconvert_exporter": "python",
   "pygments_lexer": "ipython3",
   "version": "3.11.11"
  }
 },
 "nbformat": 4,
 "nbformat_minor": 5
}
