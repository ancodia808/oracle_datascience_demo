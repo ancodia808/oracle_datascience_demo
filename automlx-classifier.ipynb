{
 "cells": [
  {
   "cell_type": "markdown",
   "id": "958399c6-256f-4cfc-8521-9a37ea00c21b",
   "metadata": {},
   "source": [
    "### OCI Data Science - Useful Tips\n",
    "<details>\n",
    "<summary><font size=\"2\">Check for Public Internet Access</font></summary>\n",
    "\n",
    "```python\n",
    "import requests\n",
    "response = requests.get(\"https://oracle.com\")\n",
    "assert response.status_code==200, \"Internet connection failed\"\n",
    "```\n",
    "</details>\n",
    "<details>\n",
    "<summary><font size=\"2\">Helpful Documentation </font></summary>\n",
    "<ul><li><a href=\"https://docs.cloud.oracle.com/en-us/iaas/data-science/using/data-science.htm\">Data Science Service Documentation</a></li>\n",
    "<li><a href=\"https://docs.cloud.oracle.com/iaas/tools/ads-sdk/latest/index.html\">ADS documentation</a></li>\n",
    "</ul>\n",
    "</details>\n",
    "<details>\n",
    "<summary><font size=\"2\">Typical Cell Imports and Settings for ADS</font></summary>\n",
    "\n",
    "```python\n",
    "%load_ext autoreload\n",
    "%autoreload 2\n",
    "%matplotlib inline\n",
    "\n",
    "import warnings\n",
    "warnings.filterwarnings('ignore')\n",
    "\n",
    "import logging\n",
    "logging.basicConfig(format='%(levelname)s:%(message)s', level=logging.ERROR)\n",
    "\n",
    "import ads\n",
    "from ads.dataset.factory import DatasetFactory\n",
    "from ads.automl.provider import OracleAutoMLProvider\n",
    "from ads.automl.driver import AutoML\n",
    "from ads.evaluations.evaluator import ADSEvaluator\n",
    "from ads.common.data import ADSData\n",
    "from ads.explanations.explainer import ADSExplainer\n",
    "from ads.explanations.mlx_global_explainer import MLXGlobalExplainer\n",
    "from ads.explanations.mlx_local_explainer import MLXLocalExplainer\n",
    "from ads.catalog.model import ModelCatalog\n",
    "from ads.common.model_artifact import ModelArtifact\n",
    "```\n",
    "</details>\n",
    "<details>\n",
    "<summary><font size=\"2\">Useful Environment Variables</font></summary>\n",
    "\n",
    "```python\n",
    "import os\n",
    "print(os.environ[\"NB_SESSION_COMPARTMENT_OCID\"])\n",
    "print(os.environ[\"PROJECT_OCID\"])\n",
    "print(os.environ[\"USER_OCID\"])\n",
    "print(os.environ[\"TENANCY_OCID\"])\n",
    "print(os.environ[\"NB_REGION\"])\n",
    "```\n",
    "</details>"
   ]
  },
  {
   "cell_type": "raw",
   "id": "d16f0de1-b377-42c4-bd2c-d97a57e3efb9",
   "metadata": {
    "tags": []
   },
   "source": [
    "%matplotlib inline\n",
    "%load_ext autoreload\n",
    "%autoreload 2"
   ]
  },
  {
   "cell_type": "code",
   "execution_count": 1,
   "id": "86ac67d6-f401-46a1-b49c-15a89bce2a7c",
   "metadata": {
    "tags": []
   },
   "outputs": [],
   "source": [
    "import gzip\n",
    "import pandas as pd\n",
    "import numpy as np\n",
    "import matplotlib.pyplot as plt\n",
    "import seaborn as sns\n",
    "from sklearn.metrics import roc_auc_score, confusion_matrix, make_scorer, f1_score\n",
    "from sklearn.linear_model import LogisticRegression\n",
    "from sklearn.compose import make_column_selector as selector\n",
    "from sklearn.impute import SimpleImputer\n",
    "from sklearn.preprocessing import StandardScaler, OneHotEncoder\n",
    "from sklearn.compose import ColumnTransformer\n",
    "from sklearn.pipeline import Pipeline\n",
    "from sklearn.datasets import fetch_openml\n",
    "from sklearn.model_selection import train_test_split\n",
    "\n",
    "# Settings for plots\n",
    "plt.rcParams['figure.figsize'] = [10, 7]\n",
    "plt.rcParams['font.size'] = 15\n",
    "sns.set(color_codes=True)\n",
    "sns.set(font_scale=1.5)\n",
    "sns.set_palette(\"bright\")\n",
    "sns.set_style(\"whitegrid\")\n",
    "\n",
    "import automlx\n",
    "from automlx import init"
   ]
  },
  {
   "cell_type": "code",
   "execution_count": 2,
   "id": "0a925cc0-e2e0-438e-8e18-8524a24da679",
   "metadata": {
    "tags": []
   },
   "outputs": [],
   "source": [
    "# Fetch example data set\n",
    "dataset = fetch_openml(name='adult', as_frame=True)\n",
    "df, y = dataset.data, dataset.target"
   ]
  },
  {
   "cell_type": "code",
   "execution_count": 3,
   "id": "65d81b2b-11ec-4b76-8c18-0aaa24f444ff",
   "metadata": {
    "tags": []
   },
   "outputs": [
    {
     "data": {
      "text/html": [
       "<div>\n",
       "<style scoped>\n",
       "    .dataframe tbody tr th:only-of-type {\n",
       "        vertical-align: middle;\n",
       "    }\n",
       "\n",
       "    .dataframe tbody tr th {\n",
       "        vertical-align: top;\n",
       "    }\n",
       "\n",
       "    .dataframe thead th {\n",
       "        text-align: right;\n",
       "    }\n",
       "</style>\n",
       "<table border=\"1\" class=\"dataframe\">\n",
       "  <thead>\n",
       "    <tr style=\"text-align: right;\">\n",
       "      <th></th>\n",
       "      <th>age</th>\n",
       "      <th>workclass</th>\n",
       "      <th>fnlwgt</th>\n",
       "      <th>education</th>\n",
       "      <th>education-num</th>\n",
       "      <th>marital-status</th>\n",
       "      <th>occupation</th>\n",
       "      <th>relationship</th>\n",
       "      <th>race</th>\n",
       "      <th>sex</th>\n",
       "      <th>capitalgain</th>\n",
       "      <th>capitalloss</th>\n",
       "      <th>hoursperweek</th>\n",
       "      <th>native-country</th>\n",
       "    </tr>\n",
       "  </thead>\n",
       "  <tbody>\n",
       "    <tr>\n",
       "      <th>0</th>\n",
       "      <td>2</td>\n",
       "      <td>State-gov</td>\n",
       "      <td>77516.0</td>\n",
       "      <td>Bachelors</td>\n",
       "      <td>13.0</td>\n",
       "      <td>Never-married</td>\n",
       "      <td>Adm-clerical</td>\n",
       "      <td>Not-in-family</td>\n",
       "      <td>White</td>\n",
       "      <td>Male</td>\n",
       "      <td>1</td>\n",
       "      <td>0</td>\n",
       "      <td>2</td>\n",
       "      <td>United-States</td>\n",
       "    </tr>\n",
       "    <tr>\n",
       "      <th>1</th>\n",
       "      <td>3</td>\n",
       "      <td>Self-emp-not-inc</td>\n",
       "      <td>83311.0</td>\n",
       "      <td>Bachelors</td>\n",
       "      <td>13.0</td>\n",
       "      <td>Married-civ-spouse</td>\n",
       "      <td>Exec-managerial</td>\n",
       "      <td>Husband</td>\n",
       "      <td>White</td>\n",
       "      <td>Male</td>\n",
       "      <td>0</td>\n",
       "      <td>0</td>\n",
       "      <td>0</td>\n",
       "      <td>United-States</td>\n",
       "    </tr>\n",
       "    <tr>\n",
       "      <th>2</th>\n",
       "      <td>2</td>\n",
       "      <td>Private</td>\n",
       "      <td>215646.0</td>\n",
       "      <td>HS-grad</td>\n",
       "      <td>9.0</td>\n",
       "      <td>Divorced</td>\n",
       "      <td>Handlers-cleaners</td>\n",
       "      <td>Not-in-family</td>\n",
       "      <td>White</td>\n",
       "      <td>Male</td>\n",
       "      <td>0</td>\n",
       "      <td>0</td>\n",
       "      <td>2</td>\n",
       "      <td>United-States</td>\n",
       "    </tr>\n",
       "    <tr>\n",
       "      <th>3</th>\n",
       "      <td>3</td>\n",
       "      <td>Private</td>\n",
       "      <td>234721.0</td>\n",
       "      <td>11th</td>\n",
       "      <td>7.0</td>\n",
       "      <td>Married-civ-spouse</td>\n",
       "      <td>Handlers-cleaners</td>\n",
       "      <td>Husband</td>\n",
       "      <td>Black</td>\n",
       "      <td>Male</td>\n",
       "      <td>0</td>\n",
       "      <td>0</td>\n",
       "      <td>2</td>\n",
       "      <td>United-States</td>\n",
       "    </tr>\n",
       "    <tr>\n",
       "      <th>4</th>\n",
       "      <td>1</td>\n",
       "      <td>Private</td>\n",
       "      <td>338409.0</td>\n",
       "      <td>Bachelors</td>\n",
       "      <td>13.0</td>\n",
       "      <td>Married-civ-spouse</td>\n",
       "      <td>Prof-specialty</td>\n",
       "      <td>Wife</td>\n",
       "      <td>Black</td>\n",
       "      <td>Female</td>\n",
       "      <td>0</td>\n",
       "      <td>0</td>\n",
       "      <td>2</td>\n",
       "      <td>Cuba</td>\n",
       "    </tr>\n",
       "  </tbody>\n",
       "</table>\n",
       "</div>"
      ],
      "text/plain": [
       "  age         workclass    fnlwgt  education  education-num  \\\n",
       "0   2         State-gov   77516.0  Bachelors           13.0   \n",
       "1   3  Self-emp-not-inc   83311.0  Bachelors           13.0   \n",
       "2   2           Private  215646.0    HS-grad            9.0   \n",
       "3   3           Private  234721.0       11th            7.0   \n",
       "4   1           Private  338409.0  Bachelors           13.0   \n",
       "\n",
       "       marital-status         occupation   relationship   race     sex  \\\n",
       "0       Never-married       Adm-clerical  Not-in-family  White    Male   \n",
       "1  Married-civ-spouse    Exec-managerial        Husband  White    Male   \n",
       "2            Divorced  Handlers-cleaners  Not-in-family  White    Male   \n",
       "3  Married-civ-spouse  Handlers-cleaners        Husband  Black    Male   \n",
       "4  Married-civ-spouse     Prof-specialty           Wife  Black  Female   \n",
       "\n",
       "  capitalgain capitalloss hoursperweek native-country  \n",
       "0           1           0            2  United-States  \n",
       "1           0           0            0  United-States  \n",
       "2           0           0            2  United-States  \n",
       "3           0           0            2  United-States  \n",
       "4           0           0            2           Cuba  "
      ]
     },
     "execution_count": 3,
     "metadata": {},
     "output_type": "execute_result"
    }
   ],
   "source": [
    "# Output header data for quick inspection\n",
    "df.head()"
   ]
  },
  {
   "cell_type": "code",
   "execution_count": 4,
   "id": "ba217824-aaac-456c-9808-fcff0cd7dbaa",
   "metadata": {},
   "outputs": [
    {
     "data": {
      "text/html": [
       "<div>\n",
       "<style scoped>\n",
       "    .dataframe tbody tr th:only-of-type {\n",
       "        vertical-align: middle;\n",
       "    }\n",
       "\n",
       "    .dataframe tbody tr th {\n",
       "        vertical-align: top;\n",
       "    }\n",
       "\n",
       "    .dataframe thead th {\n",
       "        text-align: right;\n",
       "    }\n",
       "</style>\n",
       "<table border=\"1\" class=\"dataframe\">\n",
       "  <thead>\n",
       "    <tr style=\"text-align: right;\">\n",
       "      <th></th>\n",
       "      <th>age</th>\n",
       "      <th>workclass</th>\n",
       "      <th>fnlwgt</th>\n",
       "      <th>education</th>\n",
       "      <th>education-num</th>\n",
       "      <th>marital-status</th>\n",
       "      <th>occupation</th>\n",
       "      <th>relationship</th>\n",
       "      <th>race</th>\n",
       "      <th>sex</th>\n",
       "      <th>capitalgain</th>\n",
       "      <th>capitalloss</th>\n",
       "      <th>hoursperweek</th>\n",
       "      <th>native-country</th>\n",
       "    </tr>\n",
       "  </thead>\n",
       "  <tbody>\n",
       "    <tr>\n",
       "      <th>Data type</th>\n",
       "      <td>category</td>\n",
       "      <td>category</td>\n",
       "      <td>float64</td>\n",
       "      <td>category</td>\n",
       "      <td>float64</td>\n",
       "      <td>category</td>\n",
       "      <td>category</td>\n",
       "      <td>category</td>\n",
       "      <td>category</td>\n",
       "      <td>category</td>\n",
       "      <td>category</td>\n",
       "      <td>category</td>\n",
       "      <td>category</td>\n",
       "      <td>category</td>\n",
       "    </tr>\n",
       "  </tbody>\n",
       "</table>\n",
       "</div>"
      ],
      "text/plain": [
       "                age workclass   fnlwgt education education-num marital-status  \\\n",
       "Data type  category  category  float64  category       float64       category   \n",
       "\n",
       "          occupation relationship      race       sex capitalgain capitalloss  \\\n",
       "Data type   category     category  category  category    category    category   \n",
       "\n",
       "          hoursperweek native-country  \n",
       "Data type     category       category  "
      ]
     },
     "execution_count": 4,
     "metadata": {},
     "output_type": "execute_result"
    }
   ],
   "source": [
    "# Output default data types detected by the fetch (notice all are not correct, e.g., see \"age\" incorrectly listed as \"category\")\n",
    "pd.DataFrame({'Data type': df.dtypes}).T"
   ]
  },
  {
   "cell_type": "code",
   "execution_count": 5,
   "id": "2e794dfa-d6db-4894-893b-4b7810830824",
   "metadata": {
    "tags": []
   },
   "outputs": [
    {
     "data": {
      "text/html": [
       "<div>\n",
       "<style scoped>\n",
       "    .dataframe tbody tr th:only-of-type {\n",
       "        vertical-align: middle;\n",
       "    }\n",
       "\n",
       "    .dataframe tbody tr th {\n",
       "        vertical-align: top;\n",
       "    }\n",
       "\n",
       "    .dataframe thead th {\n",
       "        text-align: right;\n",
       "    }\n",
       "</style>\n",
       "<table border=\"1\" class=\"dataframe\">\n",
       "  <thead>\n",
       "    <tr style=\"text-align: right;\">\n",
       "      <th></th>\n",
       "      <th>age</th>\n",
       "      <th>workclass</th>\n",
       "      <th>fnlwgt</th>\n",
       "      <th>education</th>\n",
       "      <th>education-num</th>\n",
       "      <th>marital-status</th>\n",
       "      <th>occupation</th>\n",
       "      <th>relationship</th>\n",
       "      <th>race</th>\n",
       "      <th>sex</th>\n",
       "      <th>capitalgain</th>\n",
       "      <th>capitalloss</th>\n",
       "      <th>hoursperweek</th>\n",
       "      <th>native-country</th>\n",
       "    </tr>\n",
       "  </thead>\n",
       "  <tbody>\n",
       "    <tr>\n",
       "      <th>% missing vlaues</th>\n",
       "      <td>0.0</td>\n",
       "      <td>5.730724</td>\n",
       "      <td>0.0</td>\n",
       "      <td>0.0</td>\n",
       "      <td>0.0</td>\n",
       "      <td>0.0</td>\n",
       "      <td>5.751198</td>\n",
       "      <td>0.0</td>\n",
       "      <td>0.0</td>\n",
       "      <td>0.0</td>\n",
       "      <td>0.0</td>\n",
       "      <td>0.0</td>\n",
       "      <td>0.0</td>\n",
       "      <td>1.754637</td>\n",
       "    </tr>\n",
       "  </tbody>\n",
       "</table>\n",
       "</div>"
      ],
      "text/plain": [
       "                  age  workclass  fnlwgt  education  education-num  \\\n",
       "% missing vlaues  0.0   5.730724     0.0        0.0            0.0   \n",
       "\n",
       "                  marital-status  occupation  relationship  race  sex  \\\n",
       "% missing vlaues             0.0    5.751198           0.0   0.0  0.0   \n",
       "\n",
       "                  capitalgain  capitalloss  hoursperweek  native-country  \n",
       "% missing vlaues          0.0          0.0           0.0        1.754637  "
      ]
     },
     "execution_count": 5,
     "metadata": {},
     "output_type": "execute_result"
    }
   ],
   "source": [
    "# Output % missing values per column\n",
    "pd.DataFrame({'% missing vlaues': df.isnull().sum() * 100 / len(df)}).T"
   ]
  },
  {
   "cell_type": "code",
   "execution_count": 6,
   "id": "d2c89862-da2b-437e-8664-ab80824cde7b",
   "metadata": {
    "tags": []
   },
   "outputs": [
    {
     "data": {
      "text/plain": [
       "[Text(0, 0, '37155'), Text(0, 0, '11687')]"
      ]
     },
     "execution_count": 6,
     "metadata": {},
     "output_type": "execute_result"
    },
    {
     "data": {
      "image/png": "[encoded data removed]",
      "text/plain": [
       "<Figure size 1000x700 with 1 Axes>"
      ]
     },
     "metadata": {},
     "output_type": "display_data"
    }
   ],
   "source": [
    "# visualize the distribution of the target variable (income)\n",
    "y_df = pd.DataFrame(y)\n",
    "y_df.columns = ['income']\n",
    "\n",
    "ax = sns.countplot(x=\"income\", data=y_df)\n",
    "ax.bar_label(ax.containers[0])"
   ]
  },
  {
   "cell_type": "code",
   "execution_count": 7,
   "id": "6f108281-72cb-4846-8d1f-cb028619812b",
   "metadata": {
    "tags": []
   },
   "outputs": [
    {
     "data": {
      "text/plain": [
       "((34189, 14), (14653, 14))"
      ]
     },
     "execution_count": 7,
     "metadata": {},
     "output_type": "execute_result"
    }
   ],
   "source": [
    "# Correct the incorrect column data types\n",
    "numeric_columns = ['age', 'capitalgain', 'capitalloss', 'hoursperweek']\n",
    "for col in df.columns:\n",
    "    if col in numeric_columns:\n",
    "        df[col] = df[col].astype(int)\n",
    "        \n",
    "        \n",
    "# Split the data set into training and test data\n",
    "X_train, X_test, y_train, y_test = train_test_split(df,\n",
    "                                                    y.map({'>50K': 1, '<=50K': 0}).astype(int),\n",
    "                                                    train_size=0.7,\n",
    "                                                    random_state=0)\n",
    "\n",
    "# Output the shap of the training and test data sets\n",
    "X_train.shape, X_test.shape"
   ]
  },
  {
   "cell_type": "code",
   "execution_count": 8,
   "id": "13980e42-4263-46a8-98e1-e3b18ee9315c",
   "metadata": {
    "tags": []
   },
   "outputs": [],
   "source": [
    "# Initialize the AutoML Engine, setting it to use Python's parallelism library\n",
    "init(engine='local')"
   ]
  },
  {
   "cell_type": "code",
   "execution_count": null,
   "id": "b17d492b-40b7-4e11-970d-ffa779ceacb9",
   "metadata": {
    "tags": []
   },
   "outputs": [],
   "source": [
    "# Create and fit a model using the AutoML Piepline (Preprocessing > Algorithm Selection > Adaptive Sampling > Feature Selection > Hyperparameter Tuning)\n",
    "est1 = automlx.Pipeline(task='classification')\n",
    "est1.fit(X_train, y_train)"
   ]
  },
  {
   "cell_type": "code",
   "execution_count": null,
   "id": "fe37a5f1-815e-492e-bf06-c441b8be36a7",
   "metadata": {
    "tags": []
   },
   "outputs": [],
   "source": [
    "# Evaluate the effectiveness of the module\n",
    "y_proba = est1.predict_proba(X_test)\n",
    "score_default = roc_auc_score(y_test, y_proba[:, 1])\n",
    "\n",
    "print(f'Score on test data: {score_default}')"
   ]
  },
  {
   "cell_type": "code",
   "execution_count": null,
   "id": "8f3ba961-c2c7-4d7b-ab67-8a1fb7fd5938",
   "metadata": {
    "tags": []
   },
   "outputs": [],
   "source": [
    "# Summarize the AutoML activity\n",
    "est1.print_summary()"
   ]
  },
  {
   "cell_type": "code",
   "execution_count": null,
   "id": "aa613e48-7d33-48ec-ada6-7591cfa381bd",
   "metadata": {
    "tags": []
   },
   "outputs": [],
   "source": [
    "# Graph the results from the \"Model Selection\" step/stage\n",
    "trials_raw = est1.completed_trials_detailed_\n",
    "trials = trials_raw[trials_raw['Step'] == 'Model Selection']\n",
    "\n",
    "colors = []\n",
    "scores = trials['Score (neg_log_loss)'].tolist()\n",
    "models = trials['Algorithm'].tolist()\n",
    "\n",
    "y_margin = 0.10 * (max(scores) - min(scores))\n",
    "s = pd.Series(scores, index=models).sort_values(ascending=False)\n",
    "\n",
    "for index, value in s.items():\n",
    "    if index == est1.selected_model_:\n",
    "        colors.append('orange')\n",
    "    elif value >= s.mean():\n",
    "        colors.append('teal')\n",
    "    else:\n",
    "        colors.append('turquoise')\n",
    "        \n",
    "fig, ax = plt.subplots(1)\n",
    "ax.set_title(\"Algorithm Selection Trials\")\n",
    "ax.set_ylim(min(scores) - y_margin, max(scores) + y_margin)\n",
    "ax.set_ylabel('neg_log_loss')\n",
    "s.plot.bar(ax=ax, color=colors, edgecolor='black')\n",
    "ax.axhline(y=s.mean(), color='black', linewidth=0.5)\n",
    "plt.show()"
   ]
  },
  {
   "cell_type": "code",
   "execution_count": null,
   "id": "d1b88b74-0929-4f72-bc0d-6a5bc047332e",
   "metadata": {
    "tags": []
   },
   "outputs": [],
   "source": [
    "# Graph the results from the \"Adaptive Sampling\" step/stage\n",
    "trials = trials_raw[trials_raw['Step'] == 'Adaptive Sampling']\n",
    "trials = trials[trials['Score (neg_log_loss)'] != -np.inf ]\n",
    "\n",
    "scores    = trials['Score (neg_log_loss)'].tolist()\n",
    "models    = trials['Algorithm'].tolist()\n",
    "n_samples = trials['# Samples'].tolist()\n",
    "\n",
    "y_margin = 0.10 * (max(scores) - min(scores))\n",
    "        \n",
    "fig, ax = plt.subplots(1)\n",
    "ax.set_title(\"Adaptive Sampling ({})\".format(models[0].removeprefix(\"AdaptiveSamplingStage_\")))\n",
    "ax.set_xlabel('Dataset sample size')\n",
    "ax.set_ylabel('neg_log_loss')\n",
    "ax.grid(color='g', linestyle='-', linewidth=0.1)\n",
    "ax.set_ylim(min(scores) - y_margin, max(scores) + y_margin)\n",
    "ax.plot(n_samples, scores, 'k:', marker=\"s\", color='teal', markersize=3)\n",
    "plt.show()"
   ]
  },
  {
   "cell_type": "code",
   "execution_count": null,
   "id": "795793bb-cd31-41b3-801d-197252552f1f",
   "metadata": {},
   "outputs": [],
   "source": [
    "# Graph the results from the \"Feature Selection\" step/stage\n",
    "print(f\"Features selected: {est1.selected_features_names_}\")\n",
    "print(f\"Features available: {df.keys().tolist()}\")\n",
    "dropped_features = df.keys().drop(est1.selected_features_names_, errors='ignore')\n",
    "print(f\"Features dropped: {dropped_features}\") # <-- Need to take this output with a grain of salt as AutoMLX seemed to add \"_#\" indexes to ceratin feature names\n",
    " \n",
    "trials = trials_raw[trials_raw['Step'] == 'Feature Selection']\n",
    "\n",
    "scores    = trials['Score (neg_log_loss)'].tolist()\n",
    "models    = trials['Algorithm'].tolist()\n",
    "n_features = trials['# Features'].tolist()\n",
    "\n",
    "y_margin = 0.10 * (max(scores) - min(scores))\n",
    "        \n",
    "fig, ax = plt.subplots(1)\n",
    "ax.set_title(\"Feature Selection Trials\")\n",
    "ax.set_xlabel('Number of Features')\n",
    "ax.set_ylabel('neg_log_loss')\n",
    "ax.grid(color='g', linestyle='-', linewidth=0.1)\n",
    "ax.set_ylim(min(scores) - y_margin, max(scores) + y_margin)\n",
    "ax.plot(n_features, scores, 'k:', marker=\"s\", color='teal', markersize=3)\n",
    "ax.axvline(x=len(est1.selected_features_names_), color='orange', linewidth=2.0)\n",
    "plt.show()"
   ]
  },
  {
   "cell_type": "code",
   "execution_count": null,
   "id": "78c4e9a4-f1aa-4034-b960-7493692bf5b4",
   "metadata": {
    "tags": []
   },
   "outputs": [],
   "source": [
    "# Graphy the confusion matrix for our pipeline\n",
    "y_pred = est1.predict(X_test)\n",
    "cm = confusion_matrix(y_test.astype(int), y_pred, labels=[False, True])\n",
    "cm = cm.astype('float') / cm.sum(axis=1)[:, np.newaxis]\n",
    "\n",
    "df_cm = pd.DataFrame(cm)\n",
    "df_cm = df_cm * 100\n",
    "\n",
    "ax = sns.heatmap(df_cm, annot=True, fmt='.2f', cbar=False, xticklabels=['<=50K', '>50K'], yticklabels=['<=50K', '>50K'])\n",
    "ax.set_xlabel('Prediction')\n",
    "ax.set_ylabel('Actual')"
   ]
  },
  {
   "cell_type": "code",
   "execution_count": null,
   "id": "e806d26f-2f7f-4116-9b18-b4b55b1da1c7",
   "metadata": {
    "tags": []
   },
   "outputs": [],
   "source": [
    "# Provide a specific model list to AutoML\n",
    "est2 = automlx.Pipeline(model_list=['LogisticRegression']) # Default task type is \"classification\"\n",
    "est2.fit(X_train, y_train)\n",
    "y_proba = est2.predict_proba(X_test)\n",
    "score_modellist = roc_auc_score(y_test, y_proba[:, 1])\n",
    "\n",
    "print(f'ROC AUC Score on test data: {score_modellist}') # Expect many warning as 'LogisticRegression' is not a good match for this data (does not converge in most cases)"
   ]
  },
  {
   "cell_type": "code",
   "execution_count": null,
   "id": "3e9e638b-1d4b-499f-ae07-d3c5b99958a9",
   "metadata": {
    "tags": []
   },
   "outputs": [],
   "source": [
    "# Use a custom validation set\n",
    "X_train, X_val, y_train, y_val = train_test_split(X_train, y_train, train_size=0.7, random_state=0)\n",
    "\n",
    "est3 = automlx.Pipeline()\n",
    "est3.fit(X_train, y_train, X_val, y_val)\n",
    "y_proba = est3.predict_proba(X_test)\n",
    "score_modellist = roc_auc_score(y_test, y_proba[:, 1])\n",
    "\n",
    "print(f'ROC AUC Score on test data: {score_modellist}')"
   ]
  },
  {
   "cell_type": "code",
   "execution_count": null,
   "id": "c053f874-7687-475a-b229-e0c8e23f06c7",
   "metadata": {
    "tags": []
   },
   "outputs": [],
   "source": [
    "# Pipeline Variation - Increase the number of tuned models\n",
    "est4 = automlx.Pipeline(n_algos_tuned=2, model_list=['GaussianNB', 'LogisticRegression', 'XGBClassifier'])\n",
    "est4.fit(X_train, y_train)\n",
    "\n",
    "y_proba = est4.predict_proba(X_test)\n",
    "score_modellist = roc_auc_score(y_test, y_proba[:, 1])\n",
    "\n",
    "print(f'ROC AUC Score on test data: {score_modellist}')"
   ]
  },
  {
   "cell_type": "code",
   "execution_count": null,
   "id": "1065db67-d1fc-41ba-8ed0-1a0f3dcc5a2a",
   "metadata": {
    "tags": []
   },
   "outputs": [],
   "source": [
    "# Pipeline Variation - Specify a different scoring metric to AutoML\n",
    "est5 = automlx.Pipeline(score_metric='accuracy', model_list=['XGBClassifier'])\n",
    "est5.fit(X_train, y_train)\n",
    "\n",
    "y_proba = est5.predict_proba(X_test)\n",
    "score_modellist = roc_auc_score(y_test, y_proba[:, 1])\n",
    "\n",
    "print(f'ROC AUC Score on test data: {score_modellist}')"
   ]
  },
  {
   "cell_type": "code",
   "execution_count": null,
   "id": "13e2ef0e-6b2b-4fa9-81a5-f553dee580f0",
   "metadata": {
    "tags": []
   },
   "outputs": [],
   "source": [
    "# Pipeline Variation - Specify a user defined scoring function to AutoML\n",
    "#score_fn = make_scorer(f1_score, greater_is_better=True, needs_proba=False, average='macro')\n",
    "def custom_mae_scorer(y_true, y_pred):\n",
    "    \"\"\"\n",
    "    Custom Mean Absolute Error scorer.\n",
    "    AutoMLx expects a function that takes (y_true, y_pred) as input.\n",
    "    \"\"\"\n",
    "    def __init__(self, name=\"custom_mae_scorer\"):\n",
    "        self.__name__ = name\n",
    "        self.y_true = y_true\n",
    "        self.y_pred = y_pred\n",
    "    \n",
    "    return -mean_absolute_error(y_true, y_pred) # Return negative for optimization (AutoMLx maximizes scores)\n",
    "\n",
    "est6 = automlx.Pipeline(\n",
    "    task='classification',\n",
    "    score_metric=custom_mae_scorer, # Or custom_mae_scorer if not using make_scorer\n",
    "    random_state=42\n",
    ")\n",
    "est6.fit(X_train, y_train)\n",
    "\n",
    "y_proba = est6.predict_proba(X_test)\n",
    "score_modellist = roc_auc_score(y_test, y_proba[:, 1])\n",
    "\n",
    "print(f'ROC AUC Score on test data: {score_modellist}')"
   ]
  },
  {
   "cell_type": "code",
   "execution_count": null,
   "id": "03a83055-650d-47e8-bf1b-b2a827f95800",
   "metadata": {
    "tags": []
   },
   "outputs": [],
   "source": [
    "# Pipeline Variation - Specify a time budget to AutoML\n",
    "est7 = automlx.Pipeline()\n",
    "est7.fit(X_train, y_train, time_budget=10) # <-- This made an amazing difference in auto-modeling time, but did not change the score substantially\n",
    "\n",
    "y_proba = est7.predict_proba(X_test)\n",
    "score_modellist = roc_auc_score(y_test, y_proba[:, 1])\n",
    "\n",
    "print(f'ROC AUC Score on test data: {score_modellist}')"
   ]
  },
  {
   "cell_type": "code",
   "execution_count": null,
   "id": "9fe663e8-c880-4a07-b97f-24a0e97f22bf",
   "metadata": {
    "tags": []
   },
   "outputs": [
    {
     "name": "stdout",
     "output_type": "stream",
     "text": [
      "[2025-10-20 20:11:10,885] [automlx.interface] Dataset shape: (34189,14)\n",
      "[2025-10-20 20:11:10,986] [automlx.data_transform] Running preprocessing. Number of features: 15\n",
      "[2025-10-20 20:11:11,898] [automlx.data_transform] Preprocessing completed. Took 0.912 secs\n",
      "[2025-10-20 20:11:11,909] [automlx.process] Running Model Generation\n",
      "[2025-10-20 20:11:11,963] [automlx.process] Model Generation completed.\n",
      "[2025-10-20 20:11:11,981] [automlx.model_selection] Running Model Selection\n",
      "[2025-10-20 20:11:11,987] [automlx.trials] Fewer models (1) than top_k (1) provided, skipping...\n",
      "[2025-10-20 20:11:12,010] [automlx.adaptive_sampling] Running Adaptive Sampling. Dataset shape: (34189,16).\n",
      "[2025-10-20 20:11:29,345] [automlx.trials] Adaptive Sampling completed - Took 17.3349 sec.\n",
      "[2025-10-20 20:11:29,468] [automlx.feature_selection] Starting feature ranking for XGBClassifier\n"
     ]
    }
   ],
   "source": [
    "# Pipeline Variation - Specify a time budget to AutoML\n",
    "est8 = automlx.Pipeline(min_features=['fnlwgt', 'native-country'], model_list=['XGBClassifier'])\n",
    "est8.fit(X_train, y_train)\n",
    "\n",
    "y_proba = est8.predict_proba(X_test)\n",
    "score_modellist = roc_auc_score(y_test, y_proba[:, 1])\n",
    "\n",
    "print(f'ROC AUC Score on test data: {score_modellist}')\n",
    "print(f'Selected features: {est8.selected_features_names_}')"
   ]
  },
  {
   "cell_type": "code",
   "execution_count": null,
   "id": "59ba113e-1ca4-41af-9ebe-237b0083bf73",
   "metadata": {},
   "outputs": [],
   "source": []
  }
 ],
 "metadata": {
  "kernelspec": {
   "display_name": "Python [conda env:automlx251_p311_cpu_x86_64_v2]",
   "language": "python",
   "name": "conda-env-automlx251_p311_cpu_x86_64_v2-py"
  },
  "language_info": {
   "codemirror_mode": {
    "name": "ipython",
    "version": 3
   },
   "file_extension": ".py",
   "mimetype": "text/x-python",
   "name": "python",
   "nbconvert_exporter": "python",
   "pygments_lexer": "ipython3",
   "version": "3.11.11"
  }
 },
 "nbformat": 4,
 "nbformat_minor": 5
}
